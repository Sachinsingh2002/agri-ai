{
 "cells": [
  {
   "cell_type": "code",
   "execution_count": 1,
   "id": "c32e05e4",
   "metadata": {},
   "outputs": [
    {
     "name": "stdout",
     "output_type": "stream",
     "text": [
      "C:\\Users\\TOSHIBA\\Desktop\\Plant-Disease-Detection-main\\Flask_Deployed_App\n"
     ]
    }
   ],
   "source": [
    "%cd C:/Users/TOSHIBA/Desktop/Plant-Disease-Detection-main/Flask_Deployed_App"
   ]
  },
  {
   "cell_type": "code",
   "execution_count": 2,
   "id": "9293ac89",
   "metadata": {},
   "outputs": [],
   "source": [
    "import os\n",
    "from PIL import Image\n",
    "import torchvision.transforms.functional as TF\n",
    "import CNN\n",
    "import numpy as np\n",
    "import torch\n",
    "import pandas as pd\n",
    "\n"
   ]
  },
  {
   "cell_type": "code",
   "execution_count": null,
   "id": "c892f7aa",
   "metadata": {},
   "outputs": [],
   "source": [
    "\n",
    "disease_info = pd.read_csv('C:/Users/TOSHIBA/Desktop/Plant-Disease-Detection-main/Flask_Deployed_App/disease_info.csv' , encoding='cp1252')\n",
    "supplement_info = pd.read_csv('C:/Users/TOSHIBA/Desktop/Plant-Disease-Detection-main/Flask_Deployed_App/supplement_info.csv',encoding='cp1252')\n",
    "\n",
    "model = CNN.CNN(39)    \n",
    "model.load_state_dict(torch.load(\"C:/Users/TOSHIBA/Desktop/Plant-Disease-Detection-main/Flask_Deployed_App/plant_disease_model_1_latest.pt\"))\n",
    "model.summary()\n",
    "\n"
   ]
  },
  {
   "cell_type": "code",
   "execution_count": 4,
   "id": "a6607b60",
   "metadata": {},
   "outputs": [],
   "source": [
    "def prediction(image_path):\n",
    "    image = Image.open(image_path)\n",
    "    image = image.resize((224, 224))\n",
    "    input_data = TF.to_tensor(image)\n",
    "    input_data = input_data.view((-1, 3, 224, 224))\n",
    "    output = model(input_data)\n",
    "    output = output.detach().numpy()\n",
    "    index = np.argmax(output)\n",
    "    return index"
   ]
  },
  {
   "cell_type": "code",
   "execution_count": null,
   "id": "77aad7af",
   "metadata": {},
   "outputs": [],
   "source": []
  },
  {
   "cell_type": "code",
   "execution_count": 9,
   "id": "943d542a",
   "metadata": {},
   "outputs": [],
   "source": [
    "file_path='C:/Users/TOSHIBA/Downloads/zoe-schaeffer-9kIskHkx-ik-unsplash.jpg'"
   ]
  },
  {
   "cell_type": "code",
   "execution_count": 10,
   "id": "8c9b6f56",
   "metadata": {},
   "outputs": [],
   "source": [
    "        pred = prediction(file_path)\n",
    "        title = disease_info['disease_name'][pred]\n",
    "        description =disease_info['description'][pred]\n",
    "        prevent = disease_info['Possible Steps'][pred]\n",
    "        image_url = disease_info['image_url'][pred]\n",
    "        supplement_name = supplement_info['supplement name'][pred]\n",
    "        supplement_image_url = supplement_info['supplement image'][pred]\n",
    "        supplement_buy_link = supplement_info['buy link'][pred]"
   ]
  },
  {
   "cell_type": "code",
   "execution_count": 11,
   "id": "e1187c73",
   "metadata": {},
   "outputs": [
    {
     "name": "stdout",
     "output_type": "stream",
     "text": [
      "24\n",
      "Water one inch per week from spring until after harvest. Regular watering is better than infrequent deep soaking. Keep your raspberry bushes tidy by digging up any “suckers” or canes that grow well away from the rows; if you don't dig them up, they'll draw nutrients away and you'll have less berries next year.\n"
     ]
    }
   ],
   "source": [
    "print(pred)\n",
    "print(description)\n"
   ]
  },
  {
   "cell_type": "code",
   "execution_count": 12,
   "id": "555a1f6a",
   "metadata": {},
   "outputs": [
    {
     "name": "stdout",
     "output_type": "stream",
     "text": [
      "Raspberry : Healthy\n"
     ]
    }
   ],
   "source": [
    "print(title)"
   ]
  },
  {
   "cell_type": "code",
   "execution_count": 22,
   "id": "b9c63962",
   "metadata": {},
   "outputs": [
    {
     "name": "stdout",
     "output_type": "stream",
     "text": [
      "https://extension.umn.edu/sites/extension.umn.edu/files/styles/large/public/early-blight-leaf-tomato.jpg?itok=woYQQlrF\n"
     ]
    }
   ],
   "source": [
    "print(image_url)"
   ]
  },
  {
   "cell_type": "code",
   "execution_count": 23,
   "id": "38a4bb23",
   "metadata": {},
   "outputs": [
    {
     "data": {
      "text/plain": [
       "'https://farmagritech.com/product/nativo-fungicide/?attribute_pa_size=50gm&utm_source=Google%20Shopping&utm_campaign=Google%20shopping%20feed%201&utm_medium=cpc&utm_term=1326'"
      ]
     },
     "execution_count": 23,
     "metadata": {},
     "output_type": "execute_result"
    }
   ],
   "source": [
    "supplement_buy_link\n"
   ]
  },
  {
   "cell_type": "code",
   "execution_count": null,
   "id": "f8f434a0",
   "metadata": {},
   "outputs": [],
   "source": []
  }
 ],
 "metadata": {
  "kernelspec": {
   "display_name": "Python 3 (ipykernel)",
   "language": "python",
   "name": "python3"
  },
  "language_info": {
   "codemirror_mode": {
    "name": "ipython",
    "version": 3
   },
   "file_extension": ".py",
   "mimetype": "text/x-python",
   "name": "python",
   "nbconvert_exporter": "python",
   "pygments_lexer": "ipython3",
   "version": "3.9.7"
  }
 },
 "nbformat": 4,
 "nbformat_minor": 5
}
